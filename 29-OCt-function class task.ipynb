{
 "cells": [
  {
   "cell_type": "code",
   "execution_count": null,
   "id": "2bda2596",
   "metadata": {},
   "outputs": [],
   "source": [
    "1. write a function which will try to find out len of a string without using an inbuilt len function \n",
    "2. write a function which  will be able to print an index of list element without using an index function\n",
    "3. write a function which will be able to print an ip address of your system\n",
    "4. write a function which will shutdown your system\n",
    "5. write a function which will take input as a list with any kind of numeric value and give an out as a multiplication of \n",
    "all the numeric data l = [3.5, 6.56, 4,5,\"sudh\" , \"ineuron\" , 'fsda bootcamp 2.0']\n",
    "6. write a function which will be able to read all the mails \n",
    "7 . write a function which will be able to send a mail to anyone \n",
    "8. write a function which will be able to read a doc/word file from your system \n",
    "\n",
    "you are suppose to complete this by oct 30th before your \n",
    "live class and you have to send a solution at mail id - query@ineuron.ai\n",
    "submit your git link to mail "
   ]
  },
  {
   "cell_type": "code",
   "execution_count": 3,
   "id": "506ba876",
   "metadata": {},
   "outputs": [],
   "source": [
    "#Q1.\n",
    "def findlen(s):\n",
    "    \"\"\"This function is about finding length of a string\"\"\"\n",
    "    length = 0\n",
    "    for i in s:\n",
    "        length+=1\n",
    "    return length"
   ]
  },
  {
   "cell_type": "code",
   "execution_count": 5,
   "id": "4e9f8b75",
   "metadata": {},
   "outputs": [
    {
     "data": {
      "text/plain": [
       "13"
      ]
     },
     "execution_count": 5,
     "metadata": {},
     "output_type": "execute_result"
    }
   ],
   "source": [
    "s = \"Hi I am Ashis\"\n",
    "findlen(s)"
   ]
  },
  {
   "cell_type": "code",
   "execution_count": 28,
   "id": "ca64b95a",
   "metadata": {},
   "outputs": [],
   "source": [
    "#Q2\n",
    "def findindex(l,ele):\n",
    "    \"\"\"This function is about finding index of an element\"\"\"\n",
    "    if len(l) == 0:\n",
    "        raise Exception(\"Your list is empty!\")\n",
    "    index = 0\n",
    "    for i in l:\n",
    "        if ele == i:\n",
    "            break\n",
    "        index+=1\n",
    "    return index"
   ]
  },
  {
   "cell_type": "code",
   "execution_count": 29,
   "id": "dc016c09",
   "metadata": {},
   "outputs": [
    {
     "data": {
      "text/plain": [
       "2"
      ]
     },
     "execution_count": 29,
     "metadata": {},
     "output_type": "execute_result"
    }
   ],
   "source": [
    "l = [4,5,3,65,7,4]\n",
    "ele = 3\n",
    "findindex(l,ele)"
   ]
  },
  {
   "cell_type": "code",
   "execution_count": 30,
   "id": "f0d6f2ae",
   "metadata": {},
   "outputs": [
    {
     "ename": "Exception",
     "evalue": "Your list is empty!",
     "output_type": "error",
     "traceback": [
      "\u001b[1;31m---------------------------------------------------------------------------\u001b[0m",
      "\u001b[1;31mException\u001b[0m                                 Traceback (most recent call last)",
      "Input \u001b[1;32mIn [30]\u001b[0m, in \u001b[0;36m<cell line: 3>\u001b[1;34m()\u001b[0m\n\u001b[0;32m      1\u001b[0m l \u001b[38;5;241m=\u001b[39m []\n\u001b[0;32m      2\u001b[0m ele \u001b[38;5;241m=\u001b[39m \u001b[38;5;241m0\u001b[39m\n\u001b[1;32m----> 3\u001b[0m \u001b[43mfindindex\u001b[49m\u001b[43m(\u001b[49m\u001b[43ml\u001b[49m\u001b[43m,\u001b[49m\u001b[43mele\u001b[49m\u001b[43m)\u001b[49m\n",
      "Input \u001b[1;32mIn [28]\u001b[0m, in \u001b[0;36mfindindex\u001b[1;34m(l, ele)\u001b[0m\n\u001b[0;32m      2\u001b[0m \u001b[38;5;28;01mdef\u001b[39;00m \u001b[38;5;21mfindindex\u001b[39m(l,ele):\n\u001b[0;32m      3\u001b[0m     \u001b[38;5;28;01mif\u001b[39;00m \u001b[38;5;28mlen\u001b[39m(l) \u001b[38;5;241m==\u001b[39m \u001b[38;5;241m0\u001b[39m:\n\u001b[1;32m----> 4\u001b[0m         \u001b[38;5;28;01mraise\u001b[39;00m \u001b[38;5;167;01mException\u001b[39;00m(\u001b[38;5;124m\"\u001b[39m\u001b[38;5;124mYour list is empty!\u001b[39m\u001b[38;5;124m\"\u001b[39m)\n\u001b[0;32m      5\u001b[0m     index \u001b[38;5;241m=\u001b[39m \u001b[38;5;241m0\u001b[39m\n\u001b[0;32m      6\u001b[0m     \u001b[38;5;28;01mfor\u001b[39;00m i \u001b[38;5;129;01min\u001b[39;00m l:\n",
      "\u001b[1;31mException\u001b[0m: Your list is empty!"
     ]
    }
   ],
   "source": [
    "l = []\n",
    "ele = 0\n",
    "findindex(l,ele)"
   ]
  },
  {
   "cell_type": "code",
   "execution_count": null,
   "id": "b0127929",
   "metadata": {},
   "outputs": [],
   "source": [
    "#Q3.\n",
    "import socket\n",
    "hostname = socket.gethostname()\n",
    "IPAddr = socket.gethostbyname(hostname)\n",
    "\n",
    "print(f\"IP address of computer name: {hostname} is: {IPAddr} \")"
   ]
  },
  {
   "cell_type": "code",
   "execution_count": null,
   "id": "14d00ff5",
   "metadata": {},
   "outputs": [],
   "source": [
    "#Another way\n",
    "import os\n",
    "print(os.system('ipconfig'))"
   ]
  },
  {
   "cell_type": "code",
   "execution_count": null,
   "id": "5c5ecae6",
   "metadata": {},
   "outputs": [],
   "source": [
    "#Q4.\n",
    "import os\n",
    "  \n",
    "shutdown = input(\"Do you wish to shutdown your computer ? (yes / no): \")\n",
    "  \n",
    "if shutdown == 'no':\n",
    "    exit()\n",
    "else:\n",
    "    os.system(\"shutdown /s /t 1\")"
   ]
  },
  {
   "cell_type": "code",
   "execution_count": 32,
   "id": "a46d521a",
   "metadata": {},
   "outputs": [],
   "source": [
    "#Q5.\n",
    "def mullist(l):\n",
    "    \"\"\"This function is about multiplication of numerical values inside a list\"\"\"\n",
    "    s = 1\n",
    "    for i in l:\n",
    "        if type(i) == int or type(i) == float:\n",
    "            s*=i\n",
    "    if len(l) == 0:\n",
    "        s=0\n",
    "    return s"
   ]
  },
  {
   "cell_type": "code",
   "execution_count": 33,
   "id": "04256eef",
   "metadata": {},
   "outputs": [
    {
     "data": {
      "text/plain": [
       "459.19999999999993"
      ]
     },
     "execution_count": 33,
     "metadata": {},
     "output_type": "execute_result"
    }
   ],
   "source": [
    "l = [3.5, 6.56, 4,5,\"sudh\" , \"ineuron\" , 'fsda bootcamp 2.0']\n",
    "mullist(l)"
   ]
  },
  {
   "cell_type": "code",
   "execution_count": 34,
   "id": "b751f96c",
   "metadata": {},
   "outputs": [
    {
     "data": {
      "text/plain": [
       "0"
      ]
     },
     "execution_count": 34,
     "metadata": {},
     "output_type": "execute_result"
    }
   ],
   "source": [
    "l = []\n",
    "mullist(l)"
   ]
  },
  {
   "cell_type": "code",
   "execution_count": null,
   "id": "280b997c",
   "metadata": {},
   "outputs": [],
   "source": [
    "#Q6.\n",
    "import imaplib\n",
    "import email\n",
    "from email.header import decode_header\n",
    "import webbrowser\n",
    "import os\n",
    "\n",
    "# account credentials\n",
    "username = \"youremailaddress@provider.com\"\n",
    "password = \"yourpassword\"\n",
    "# use your email provider's IMAP server, you can look for your provider's IMAP server on Google\n",
    "# for gmail, it's this:\n",
    "imap_server = \"imap.gmail.com\"\n",
    "\n",
    "def clean(text):\n",
    "    # clean text for creating a folder\n",
    "    return \"\".join(c if c.isalnum() else \"_\" for c in text)"
   ]
  },
  {
   "cell_type": "code",
   "execution_count": 35,
   "id": "622cdd67",
   "metadata": {},
   "outputs": [],
   "source": [
    "#Q7.\n",
    "import smtplib, ssl\n",
    "\n",
    "port = 465  # For SSL\n",
    "smtp_server = \"smtp.gmail.com\"\n",
    "sender_email = \"my@gmail.com\"  # Enter your address\n",
    "receiver_email = \"your@gmail.com\"  # Enter receiver address\n",
    "password = input(\"Type your password and press enter: \")\n",
    "message = \"\"\"\\\n",
    "Subject: Hi there\n",
    "\n",
    "This message is sent from Python.\"\"\"\n",
    "\n",
    "context = ssl.create_default_context()\n",
    "with smtplib.SMTP_SSL(smtp_server, port, context=context) as server:\n",
    "    server.login(sender_email, password)\n",
    "    server.sendmail(sender_email, receiver_email, message)"
   ]
  },
  {
   "cell_type": "code",
   "execution_count": 49,
   "id": "a8c0da27",
   "metadata": {},
   "outputs": [],
   "source": [
    "#Q8\n",
    "from docx import Document\n",
    "import os"
   ]
  },
  {
   "cell_type": "code",
   "execution_count": 52,
   "id": "b9552c5c",
   "metadata": {},
   "outputs": [],
   "source": [
    "def readdoc(filename):\n",
    "    docx_dict = {}\n",
    "    document = Document(filename)\n",
    "    indx = 0\n",
    "    for para in document.paragraphs:\n",
    "        indx+=1\n",
    "        if(len(para.text)>0):\n",
    "            docx_dict[indx] = para.text\n",
    "    return docx_dict"
   ]
  },
  {
   "cell_type": "code",
   "execution_count": 56,
   "id": "910ad976",
   "metadata": {},
   "outputs": [
    {
     "data": {
      "text/plain": [
       "{1: 'Hi I am Ashis', 2: 'How are you?'}"
      ]
     },
     "execution_count": 56,
     "metadata": {},
     "output_type": "execute_result"
    }
   ],
   "source": [
    "readdoc('C:/Users/pashi/OneDrive/Documents/test.docx')"
   ]
  },
  {
   "cell_type": "code",
   "execution_count": null,
   "id": "0311e769",
   "metadata": {},
   "outputs": [],
   "source": []
  }
 ],
 "metadata": {
  "kernelspec": {
   "display_name": "Python 3 (ipykernel)",
   "language": "python",
   "name": "python3"
  },
  "language_info": {
   "codemirror_mode": {
    "name": "ipython",
    "version": 3
   },
   "file_extension": ".py",
   "mimetype": "text/x-python",
   "name": "python",
   "nbconvert_exporter": "python",
   "pygments_lexer": "ipython3",
   "version": "3.9.12"
  }
 },
 "nbformat": 4,
 "nbformat_minor": 5
}
